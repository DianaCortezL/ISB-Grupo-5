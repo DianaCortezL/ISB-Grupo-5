{
 "cells": [
  {
   "cell_type": "code",
   "execution_count": 1,
   "metadata": {},
   "outputs": [
    {
     "ename": "SyntaxError",
     "evalue": "(unicode error) 'unicodeescape' codec can't decode bytes in position 2-3: truncated \\UXXXXXXXX escape (2815536979.py, line 9)",
     "output_type": "error",
     "traceback": [
      "\u001b[1;36m  Cell \u001b[1;32mIn[1], line 9\u001b[1;36m\u001b[0m\n\u001b[1;33m    ecg = np.loadtxt('C:\\Users\\diana\\OneDrive\\Escritorio\\Repositorio\\ISB-Grupo-5\\Otros\\Archivos_varios\\Lab5_ECG\\reposoD1.txt', comments='#',skiprows=4)\u001b[0m\n\u001b[1;37m                     ^\u001b[0m\n\u001b[1;31mSyntaxError\u001b[0m\u001b[1;31m:\u001b[0m (unicode error) 'unicodeescape' codec can't decode bytes in position 2-3: truncated \\UXXXXXXXX escape\n"
     ]
    }
   ],
   "source": [
    "%pip install neurokit2 seaborn\n",
    "\n",
    "import neurokit2 as nk\n",
    "\n",
    "import pandas as pd\n",
    "\n",
    "import numpy as np\n",
    "\n",
    "ecg = np.loadtxt('C:\\Users\\diana\\OneDrive\\Escritorio\\Repositorio\\ISB-Grupo-5\\Otros\\Archivos_varios\\Lab5_ECG\\reposoD1.txt', comments='#',skiprows=4)\n",
    "\n",
    "ecg = ecg_clean(ecg)\n",
    "\n",
    "signals = pd.DataFrame({\n",
    "    \"ECG_Raw\" : ecg,\n",
    "    \"ECG_NeuroKit\" : nk.ecg_clean(ecg, sampling_rate=250, method=\"neurokit\"),\n",
    "    \"ECG_BioSPPy\" : nk.ecg_clean(ecg, sampling_rate=250, method=\"biosppy\"),\n",
    "    \"ECG_PanTompkins\" : nk.ecg_clean(ecg, sampling_rate=250, method=\"pantompkins1985\"),\n",
    "    \"ECG_Hamilton\" : nk.ecg_clean(ecg, sampling_rate=250, method=\"hamilton2002\"),\n",
    "    \"ECG_Elgendi\" : nk.ecg_clean(ecg, sampling_rate=250, method=\"elgendi2010\"),\n",
    "    \"ECG_EngZeeMod\" : nk.ecg_clean(ecg, sampling_rate=250, method=\"engzeemod2012\"),\n",
    "    \"ECG_VG\" : nk.ecg_clean(ecg, sampling_rate=250, method=\"vg\"),\n",
    "    \"ECG_TC\" : nk.ecg_clean(ecg, sampling_rate=250, method=\"templateconvolution\")\n",
    "})\n",
    "\n",
    "signals.plot(subplots=True)\n"
   ]
  },
  {
   "cell_type": "markdown",
   "metadata": {},
   "source": [
    "Utilizamos el método Neurokit por estar más chevere pes\n"
   ]
  },
  {
   "cell_type": "markdown",
   "metadata": {},
   "source": [
    "apestosossssssss"
   ]
  }
 ],
 "metadata": {
  "kernelspec": {
   "display_name": "base",
   "language": "python",
   "name": "python3"
  },
  "language_info": {
   "codemirror_mode": {
    "name": "ipython",
    "version": 3
   },
   "file_extension": ".py",
   "mimetype": "text/x-python",
   "name": "python",
   "nbconvert_exporter": "python",
   "pygments_lexer": "ipython3",
   "version": "3.12.4"
  }
 },
 "nbformat": 4,
 "nbformat_minor": 2
}
