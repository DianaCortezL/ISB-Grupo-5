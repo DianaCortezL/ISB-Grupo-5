{
 "cells": [
  {
   "cell_type": "markdown",
   "metadata": {},
   "source": [
    "Base de datos ECG en Edge Impulse"
   ]
  },
  {
   "cell_type": "markdown",
   "metadata": {},
   "source": [
    "Pasos "
   ]
  },
  {
   "cell_type": "code",
   "execution_count": null,
   "metadata": {},
   "outputs": [],
   "source": [
    "clear ;\n",
    "\n",
    "filename = 'postRespD3.txt';\n",
    "\n",
    "data = importdata(filename, '\\t');\n",
    "\n",
    "datos_guardar = data.data(:, [1, 6])\n",
    "\n",
    "% Datos csv\n",
    "writematrix(datos_guardar, 'datos_postRespD3.csv');"
   ]
  }
 ],
 "metadata": {
  "kernelspec": {
   "display_name": "Python 3",
   "language": "python",
   "name": "python3"
  },
  "language_info": {
   "name": "python",
   "version": "3.10.11"
  }
 },
 "nbformat": 4,
 "nbformat_minor": 2
}
