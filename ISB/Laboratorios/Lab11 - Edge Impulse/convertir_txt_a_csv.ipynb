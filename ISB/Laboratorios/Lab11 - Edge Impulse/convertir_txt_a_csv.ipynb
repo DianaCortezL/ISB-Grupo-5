{
 "cells": [
  {
   "cell_type": "code",
   "execution_count": 2,
   "metadata": {},
   "outputs": [
    {
     "name": "stdout",
     "output_type": "stream",
     "text": [
      "Convertido: EjercicioD1.txt -> EjercicioD1.csv\n",
      "Convertido: EjercicioD2.txt -> EjercicioD2.csv\n",
      "Convertido: EjercicioD3.txt -> EjercicioD3.csv\n",
      "Convertido: postRespD1.txt -> postRespD1.csv\n",
      "Convertido: postRespD2.txt -> postRespD2.csv\n",
      "Convertido: postRespD3.txt -> postRespD3.csv\n",
      "Convertido: reposoD1.txt -> reposoD1.csv\n",
      "Convertido: reposoD2.txt -> reposoD2.csv\n",
      "Convertido: reposoD3.txt -> reposoD3.csv\n",
      "Convertido: RespD1.txt -> RespD1.csv\n",
      "Convertido: RespD2.txt -> RespD2.csv\n",
      "Convertido: RespD3.txt -> RespD3.csv\n",
      "Convertido: sim120.txt -> sim120.csv\n",
      "Convertido: sim150.txt -> sim150.csv\n",
      "Convertido: Sim60.txt -> Sim60.csv\n",
      "Convertido: sim90.txt -> sim90.csv\n"
     ]
    }
   ],
   "source": [
    "import os\n",
    "import numpy as np\n",
    "\n",
    "def procesar_carpeta_txt_a_csv(input_folder, output_folder):\n",
    "    \"\"\"\n",
    "    Convierte todos los archivos .txt en una carpeta a archivos .csv y los guarda en otra carpeta.\n",
    "    \n",
    "    Args:\n",
    "    - input_folder: Ruta de la carpeta de entrada que contiene los archivos .txt.\n",
    "    - output_folder: Ruta de la carpeta donde se guardarán los archivos .csv.\n",
    "    \"\"\"\n",
    "    # Verificar que la carpeta de entrada exista\n",
    "    if not os.path.exists(input_folder):\n",
    "        print(\"La carpeta de entrada no existe.\")\n",
    "        return\n",
    "    \n",
    "    # Crear la carpeta de salida si no existe\n",
    "    os.makedirs(output_folder, exist_ok=True)\n",
    "    \n",
    "    # Obtener la lista de archivos .txt en la carpeta de entrada\n",
    "    txt_files = [f for f in os.listdir(input_folder) if f.endswith('.txt')]\n",
    "    \n",
    "    if not txt_files:\n",
    "        print(\"No se encontraron archivos .txt en la carpeta de entrada.\")\n",
    "        return\n",
    "    \n",
    "    for txt_file in txt_files:\n",
    "        input_path = os.path.join(input_folder, txt_file)\n",
    "        output_path = os.path.join(output_folder, txt_file.replace('.txt', '.csv'))\n",
    "        \n",
    "        try:\n",
    "            # Procesar el archivo .txt y guardarlo como .csv\n",
    "            with open(input_path, \"r\") as f:\n",
    "                # Saltar las tres primeras líneas\n",
    "                for _ in range(3):\n",
    "                    next(f)\n",
    "                \n",
    "                # Leer todas las líneas restantes\n",
    "                all_data = f.readlines()\n",
    "            \n",
    "            # Procesar cada línea, dividiendo por tabulaciones\n",
    "            all_data = [line.strip().split('\\t') for line in all_data]\n",
    "            \n",
    "            sample = [int(row[0]) for row in all_data]  # Primera columna\n",
    "            amplitude = [int(row[5]) for row in all_data]  # Sexta columna (índice 5)\n",
    "            \n",
    "            # Escribir los datos en el archivo CSV\n",
    "            with open(output_path, \"w\") as f:\n",
    "                for s, a in zip(sample, amplitude):\n",
    "                    f.write(f\"{s};{a}\\n\")\n",
    "            \n",
    "            print(f\"Convertido: {txt_file} -> {os.path.basename(output_path)}\")\n",
    "        \n",
    "        except Exception as e:\n",
    "            print(f\"Error al procesar {txt_file}: {e}\")\n",
    "\n",
    "# Rutas de las carpetas de entrada y salida\n",
    "input_folder = \"C:/Users/Joaquin/Desktop/Lab5_ECG\"\n",
    "output_folder =  \"C:/Users/Joaquin/Desktop/datos_ECG_csv\"\n",
    "\n",
    "# Llamar a la función para procesar los archivos\n",
    "procesar_carpeta_txt_a_csv(input_folder, output_folder)\n"
   ]
  }
 ],
 "metadata": {
  "kernelspec": {
   "display_name": "Señales",
   "language": "python",
   "name": "python3"
  },
  "language_info": {
   "codemirror_mode": {
    "name": "ipython",
    "version": 3
   },
   "file_extension": ".py",
   "mimetype": "text/x-python",
   "name": "python",
   "nbconvert_exporter": "python",
   "pygments_lexer": "ipython3",
   "version": "3.9.20"
  }
 },
 "nbformat": 4,
 "nbformat_minor": 2
}
