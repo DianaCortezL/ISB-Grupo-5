{
 "cells": [
  {
   "cell_type": "code",
   "execution_count": 2,
   "metadata": {},
   "outputs": [
    {
     "name": "stdout",
     "output_type": "stream",
     "text": [
      "Opening raw data file C:\\Users\\Valeria Chavez\\mne_data\\MNE-sample-data/MEG/sample/sample_audvis_raw.fif...\n"
     ]
    },
    {
     "name": "stdout",
     "output_type": "stream",
     "text": [
      "    Read a total of 3 projection items:\n",
      "        PCA-v1 (1 x 102)  idle\n",
      "        PCA-v2 (1 x 102)  idle\n",
      "        PCA-v3 (1 x 102)  idle\n",
      "    Range : 25800 ... 192599 =     42.956 ...   320.670 secs\n",
      "Ready.\n",
      "Reading 0 ... 166799  =      0.000 ...   277.714 secs...\n",
      "<Info | 21 non-empty values\n",
      " acq_pars: ACQch001 110113 ACQch002 110112 ACQch003 110111 ACQch004 110122 ...\n",
      " bads: 2 items (MEG 2443, EEG 053)\n",
      " ch_names: MEG 0113, MEG 0112, MEG 0111, MEG 0122, MEG 0123, MEG 0121, MEG ...\n",
      " chs: 204 Gradiometers, 102 Magnetometers, 9 Stimulus, 60 EEG, 1 EOG\n",
      " custom_ref_applied: False\n",
      " description: acquisition (megacq) VectorView system at NMR-MGH\n",
      " dev_head_t: MEG device -> head transform\n",
      " dig: 146 items (3 Cardinal, 4 HPI, 61 EEG, 78 Extra)\n",
      " events: 1 item (list)\n",
      " experimenter: MEG\n",
      " file_id: 4 items (dict)\n",
      " highpass: 0.1 Hz\n",
      " hpi_meas: 1 item (list)\n",
      " hpi_results: 1 item (list)\n",
      " lowpass: 172.2 Hz\n",
      " meas_date: 2002-12-03 19:01:10 UTC\n",
      " meas_id: 4 items (dict)\n",
      " nchan: 376\n",
      " proj_id: 1 item (ndarray)\n",
      " proj_name: test\n",
      " projs: PCA-v1: off, PCA-v2: off, PCA-v3: off\n",
      " sfreq: 600.6 Hz\n",
      ">\n",
      "Channels marked as bad:\n",
      "['MEG 2443', 'EEG 053']\n"
     ]
    }
   ],
   "source": [
    "import mne\n",
    "import matplotlib.pyplot as plt\n",
    "import matplotlib\n",
    "matplotlib.use('Qt5Agg')  # O 'TkAgg' si 'Qt5Agg' no funciona\n",
    "\n",
    "from mne.datasets import sample\n",
    "\n",
    "# Cargar el dataset de ejemplo proporcionado por MNE\n",
    "data_path = sample.data_path()\n",
    "raw_fname = str(data_path) + '/MEG/sample/sample_audvis_raw.fif'  # Convertir data_path a str\n",
    "\n",
    "# Leer los datos crudos\n",
    "raw = mne.io.read_raw_fif(raw_fname, preload=True)\n",
    "\n",
    "# Mostrar información básica sobre los datos\n",
    "print(raw.info)\n",
    "\n",
    "# Visualizar los datos crudos\n",
    "raw.plot(n_channels=10, duration=5, show=True)\n",
    "\n",
    "# Mostrar el montaje de los electrodos\n",
    "montage = raw.get_montage()\n",
    "mne.viz.plot_montage(montage)\n",
    "\n",
    "# Forzar la visualización\n",
    "plt.show()"
   ]
  }
 ],
 "metadata": {
  "kernelspec": {
   "display_name": "mne",
   "language": "python",
   "name": "python3"
  },
  "language_info": {
   "codemirror_mode": {
    "name": "ipython",
    "version": 3
   },
   "file_extension": ".py",
   "mimetype": "text/x-python",
   "name": "python",
   "nbconvert_exporter": "python",
   "pygments_lexer": "ipython3",
   "version": "3.12.3"
  }
 },
 "nbformat": 4,
 "nbformat_minor": 2
}
