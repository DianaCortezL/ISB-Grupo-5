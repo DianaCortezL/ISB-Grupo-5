{
 "cells": [
  {
   "cell_type": "code",
   "execution_count": null,
   "metadata": {},
   "outputs": [],
   "source": [
    "import mne\n",
    "import numpy as np\n",
    "import matplotlib.pyplot as plt\n",
    "\n",
    "# Genera una señal de ECG simulada\n",
    "sfreq = 1000  # Frecuencia de muestreo en Hz\n",
    "times = np.arange(0, 10, 1/sfreq)  # 10 segundos de datos\n",
    "ecg = np.sin(2 * np.pi * 1.33 * times)  # Señal de ejemplo (senoidal)\n",
    "\n",
    "# Crea un objeto RawArray con la señal de ECG\n",
    "info = mne.create_info(ch_names=['ECG'], sfreq=sfreq, ch_types=['ecg'])\n",
    "raw = mne.io.RawArray([ecg], info)\n",
    "\n",
    "# Filtrado de la señal de ECG\n",
    "raw.filter(0.5, 40, fir_design='firwin')\n",
    "\n",
    "# Plotea la señal de ECG\n",
    "raw.plot(duration=5, n_channels=1)\n",
    "\n",
    "# Muestra el espectro de la señal\n",
    "raw.plot_psd(fmax=50)"
   ]
  }
 ],
 "metadata": {
  "language_info": {
   "name": "python"
  }
 },
 "nbformat": 4,
 "nbformat_minor": 2
}
