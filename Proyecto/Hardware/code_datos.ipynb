{
 "cells": [
  {
   "cell_type": "code",
   "execution_count": 3,
   "metadata": {},
   "outputs": [
    {
     "ename": "ModuleNotFoundError",
     "evalue": "No module named 'wfdb'",
     "output_type": "error",
     "traceback": [
      "\u001b[1;31m---------------------------------------------------------------------------\u001b[0m",
      "\u001b[1;31mModuleNotFoundError\u001b[0m                       Traceback (most recent call last)",
      "Cell \u001b[1;32mIn[3], line 1\u001b[0m\n\u001b[1;32m----> 1\u001b[0m \u001b[38;5;28;01mimport\u001b[39;00m \u001b[38;5;21;01mwfdb\u001b[39;00m\n\u001b[0;32m      2\u001b[0m \u001b[38;5;28;01mimport\u001b[39;00m \u001b[38;5;21;01mmatplotlib\u001b[39;00m\u001b[38;5;21;01m.\u001b[39;00m\u001b[38;5;21;01mpyplot\u001b[39;00m \u001b[38;5;28;01mas\u001b[39;00m \u001b[38;5;21;01mplt\u001b[39;00m\n\u001b[0;32m      4\u001b[0m \u001b[38;5;66;03m# Ruta de los archivos descargados (ajusta esta ruta según tu archivo)\u001b[39;00m\n",
      "\u001b[1;31mModuleNotFoundError\u001b[0m: No module named 'wfdb'"
     ]
    }
   ],
   "source": [
    "import wfdb\n",
    "import matplotlib.pyplot as plt\n",
    "\n",
    "# Ruta de los archivos descargados (ajusta esta ruta según tu archivo)\n",
    "record = wfdb.rdrecord('Proyecto\\term-preterm-ehg-database-1.0.1\\term-preterm-ehg-database-1.0.1\\tpehgdb\\tpehg546.dat')  # Aquí debe ir el nombre del archivo .dat sin la extensión\n",
    "signal = record.p_signal  # Aquí se obtienen los datos de la señal\n",
    "\n",
    "# Ploteando los primeros 10 segundos de la señal (asumiendo que la señal tiene una frecuencia de muestreo de 360 Hz)\n",
    "fs = record.fs  # Frecuencia de muestreo\n",
    "time = [i/fs for i in range(len(signal))]  # Creación de una lista de tiempo\n",
    "\n",
    "plt.plot(time[:int(fs*10)], signal[:int(fs*10)])  # Plot de los primeros 10 segundos\n",
    "plt.title('Señal fisiológica')\n",
    "plt.xlabel('Tiempo [s]')\n",
    "plt.ylabel('Amplitud')\n",
    "plt.show()\n"
   ]
  }
 ],
 "metadata": {
  "kernelspec": {
   "display_name": "Python 3",
   "language": "python",
   "name": "python3"
  },
  "language_info": {
   "codemirror_mode": {
    "name": "ipython",
    "version": 3
   },
   "file_extension": ".py",
   "mimetype": "text/x-python",
   "name": "python",
   "nbconvert_exporter": "python",
   "pygments_lexer": "ipython3",
   "version": "3.10.11"
  }
 },
 "nbformat": 4,
 "nbformat_minor": 2
}
